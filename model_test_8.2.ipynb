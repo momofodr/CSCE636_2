{
 "cells": [
  {
   "cell_type": "code",
   "execution_count": 1,
   "metadata": {},
   "outputs": [
    {
     "name": "stderr",
     "output_type": "stream",
     "text": [
      "Using TensorFlow backend.\n"
     ]
    },
    {
     "name": "stdout",
     "output_type": "stream",
     "text": [
      "Found 1461 images belonging to 2 classes.\n"
     ]
    }
   ],
   "source": [
    "# This is the file for testing the performance\n",
    "import os, shutil\n",
    "from keras.preprocessing.image import ImageDataGenerator\n",
    "\n",
    "datagen = ImageDataGenerator(rescale=1./255)\n",
    "test_dir='test'\n",
    "\n",
    "test_generator = datagen.flow_from_directory(\n",
    "    directory=test_dir,\n",
    "    target_size=(299, 299),\n",
    "    color_mode=\"rgb\",\n",
    "    batch_size=64,\n",
    "    class_mode=\"binary\",\n",
    "    shuffle=True,\n",
    "    seed=42\n",
    ")\n"
   ]
  },
  {
   "cell_type": "code",
   "execution_count": 7,
   "metadata": {},
   "outputs": [],
   "source": [
    "from keras.applications.inception_v3 import InceptionV3\n",
    "from keras.preprocessing import image\n",
    "from keras.models import Model\n",
    "from keras import backend as K\n",
    "from keras import layers\n",
    "from keras import optimizers\n",
    "from keras import losses\n",
    "from keras import metrics\n",
    "from keras.callbacks import ModelCheckpoint\n",
    "from keras.layers import Dense, GlobalAveragePooling2D, Flatten\n",
    "\n",
    "# create the base pre-trained model\n",
    "base_model = InceptionV3(weights='imagenet', \n",
    "                         include_top=False,\n",
    "                         input_shape=(299,299,3),\n",
    "                         pooling=None\n",
    "                         )"
   ]
  },
  {
   "cell_type": "code",
   "execution_count": 8,
   "metadata": {},
   "outputs": [],
   "source": [
    "from keras.callbacks import ModelCheckpoint\n",
    "# add a global spatial average pooling layer\n",
    "x = base_model.output\n",
    "x=Flatten()(x)\n",
    "x = Dense(256, activation='relu')(x)\n",
    "predictions = Dense(1, activation='sigmoid')(x)\n",
    "\n",
    "# this is the model we will train\n",
    "model = Model(inputs=base_model.input, outputs=predictions)\n",
    "\n",
    "# first: train only the top layers (which were randomly initialized)\n",
    "# i.e. freeze all convolutional InceptionV3 layers\n",
    "# compile the model (should be done *after* setting layers to non-trainable)\n",
    "model.compile(optimizer=optimizers.RMSprop(lr=0.0001), loss='binary_crossentropy', \n",
    "              metrics=['acc'])\n",
    "#model.compile(loss=losses.binary_crossentropy,\n",
    "            #optimizer=optimizers.RMSprop(lr=0.0001),\n",
    "            #metrics=[metrics.binary_accuracy])\n",
    "\n",
    "#Below is directory to the model you should load.\n",
    "model.load_weights('model8.2_02-0.12.hdf5')"
   ]
  },
  {
   "cell_type": "code",
   "execution_count": 9,
   "metadata": {},
   "outputs": [
    {
     "name": "stdout",
     "output_type": "stream",
     "text": [
      "[0.31728410720825195, 0.9219712615013123]\n"
     ]
    }
   ],
   "source": [
    "results=model.evaluate_generator(test_generator, callbacks=None,  \n",
    "                    use_multiprocessing=False, verbose=0)\n",
    "print(results)"
   ]
  },
  {
   "cell_type": "code",
   "execution_count": 19,
   "metadata": {},
   "outputs": [
    {
     "name": "stdout",
     "output_type": "stream",
     "text": [
      "Requirement already satisfied: tqdm in c:\\users\\trappedionpc\\anaconda3\\lib\\site-packages (4.36.1)\n",
      "Note: you may need to restart the kernel to use updated packages.\n"
     ]
    }
   ],
   "source": [
    "pip install tqdm"
   ]
  },
  {
   "cell_type": "code",
   "execution_count": 10,
   "metadata": {},
   "outputs": [],
   "source": [
    "from __future__ import print_function\n",
    "\n",
    "import numpy as np\n",
    "import cv2\n",
    "import os\n",
    "import time\n",
    "from tqdm import tqdm\n",
    "import matplotlib.pyplot as plt\n",
    "import jsonlines\n",
    "\n",
    "def prepare_frames_from_video(datadir, fps = 30.0):\n",
    "    video_list = []\n",
    "    times = []\n",
    "    frames = []\n",
    "    if os.path.isdir(datadir):\n",
    "        for root, dirs, files in os.walk(datadir):\n",
    "            for file in files:\n",
    "                if '.mp4' in file:\n",
    "                    video_list.append(os.path.join(root, file))\n",
    "    elif os.path.isfile(datadir):\n",
    "        video_list = [datadir]\n",
    "    else:\n",
    "        print('Dataset is empty.')\n",
    "    \n",
    "    frames_index = 0\n",
    "    frame_time = 0\n",
    "    for video in video_list:\n",
    "        cap = cv2.VideoCapture(video)\n",
    "        count_index = 0\n",
    "        print(\"start loading \"+os.path.basename(video))\n",
    "        t_start = time.time()\n",
    "        while (True):\n",
    "            success, frame = cap.read()\n",
    "            if not success:\n",
    "                break\n",
    "            count_index += 1\n",
    "            frame_time += 1\n",
    "            if count_index == 10:\n",
    "                frames.append(cv2.resize(frame,(299, 299))/255.)\n",
    "                times.append(frame_time/float(fps))\n",
    "                count_index = 0\n",
    "                frames_index+=1\n",
    "        print('loading data finished')\n",
    "        t_end = time.time()\n",
    "        print('time cost',t_end-t_start,'s')\n",
    "        cap.release()\n",
    "        cv2.destroyAllWindows()\n",
    "\n",
    "    return frames, os.path.basename(video), times"
   ]
  },
  {
   "cell_type": "code",
   "execution_count": 12,
   "metadata": {},
   "outputs": [
    {
     "name": "stdout",
     "output_type": "stream",
     "text": [
      "start loading sample1.mp4\n",
      "loading data finished\n",
      "time cost 2.7336156368255615 s\n",
      "start loading sample2.mp4\n",
      "loading data finished\n",
      "time cost 4.233275413513184 s\n",
      "start loading sample3.mp4\n",
      "loading data finished\n",
      "time cost 5.857869863510132 s\n",
      "start loading sample4.mp4\n",
      "loading data finished\n",
      "time cost 5.045597314834595 s\n",
      "start loading sample5.mp4\n",
      "loading data finished\n",
      "time cost 6.029677152633667 s\n"
     ]
    },
    {
     "data": {
      "text/plain": [
       "<Figure size 432x288 with 0 Axes>"
      ]
     },
     "metadata": {},
     "output_type": "display_data"
    }
   ],
   "source": [
    "import matplotlib.pyplot as plt\n",
    "import jsonlines\n",
    "import numpy as np\n",
    "import cv2\n",
    "from tqdm import tqdm\n",
    "path = 'sample_video'\n",
    "video_list = []\n",
    "for root, dirs, files in os.walk(path):\n",
    "    for file in files:\n",
    "        if '.mp4' in file:\n",
    "            frames, video, times = prepare_frames_from_video(os.path.join(root, file))\n",
    "            prob = model.predict([frames])\n",
    "            pred = [int(p>0.5) for p in prob]\n",
    "            js = \"\"\n",
    "            for i, p in enumerate(prob):\n",
    "                js += \"({},{}) \".format(times[i], p)\n",
    "            with jsonlines.open(video.split('.')[0]+\"_3.jsonl\",mode='w') as writer:\n",
    "                writer.write(js)\n",
    "            plt.plot(times, pred)\n",
    "            plt.xlabel('time (s)')\n",
    "            plt.ylabel('prediction')\n",
    "            plt.savefig(video.split('.')[0]+\"_3.jpg\")\n",
    "            plt.clf()"
   ]
  },
  {
   "cell_type": "code",
   "execution_count": null,
   "metadata": {},
   "outputs": [],
   "source": []
  }
 ],
 "metadata": {
  "kernelspec": {
   "display_name": "Python 3",
   "language": "python",
   "name": "python3"
  },
  "language_info": {
   "codemirror_mode": {
    "name": "ipython",
    "version": 3
   },
   "file_extension": ".py",
   "mimetype": "text/x-python",
   "name": "python",
   "nbconvert_exporter": "python",
   "pygments_lexer": "ipython3",
   "version": "3.7.4"
  }
 },
 "nbformat": 4,
 "nbformat_minor": 2
}
